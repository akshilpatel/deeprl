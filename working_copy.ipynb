{
 "cells": [
  {
   "cell_type": "code",
   "execution_count": 1,
   "metadata": {},
   "outputs": [],
   "source": [
    "import gym\n",
    "import numpy as np\n",
    "import torch\n",
    "from torch import nn, optim\n",
    "import matplotlib.pyplot as plt\n",
    "from collections import deque\n",
    "from gym.spaces.box import Box\n",
    "from gym.spaces.discrete import Discrete\n",
    "from copy import deepcopy\n",
    "from typing import List, Tuple, Dict\n",
    "from gym import Space\n",
    "import torch.multiprocessing as mp\n",
    "from gym.vector import SyncVectorEnv, AsyncVectorEnv\n",
    "from copy import deepcopy\n",
    "import pandas as pd"
   ]
  },
  {
   "cell_type": "code",
   "execution_count": 2,
   "metadata": {},
   "outputs": [],
   "source": [
    "from deeprl.common.utils import (\n",
    "    net_gym_space_dims,\n",
    "    discount_cumsum,\n",
    "    to_torch,\n",
    "    compute_td_deltas,\n",
    "    compute_gae_and_v_targets,\n",
    "    normalise_adv,\n",
    "    init_envs,\n",
    "    minibatch_split,\n",
    "    layer_init,\n",
    "    )\n",
    "from deeprl.algos.a2c.a2c import A2C\n",
    "from deeprl.algos.ppo.ppo import PPO\n",
    "from deeprl.common.base import Network, Policy, CategoricalPolicy, GaussianPolicy, Critic"
   ]
  },
  {
   "cell_type": "code",
   "execution_count": 63,
   "metadata": {},
   "outputs": [],
   "source": [
    "env_name = \"CartPole-v1\"\n",
    "\n",
    "env = gym.make(env_name)\n",
    "\n",
    "policy_layers = [\n",
    "    (\n",
    "        nn.Linear,\n",
    "        {\n",
    "            \"in_features\": net_gym_space_dims(env.observation_space),\n",
    "            \"out_features\": 32,\n",
    "        },\n",
    "    ),\n",
    "    (nn.Tanh, {}),\n",
    "    (nn.Linear, {\"in_features\": 32, \"out_features\": 32}),\n",
    "    (nn.Tanh, {}),\n",
    "    (\n",
    "        nn.Linear,\n",
    "        {\"in_features\": 32, \"out_features\": net_gym_space_dims(env.action_space)},\n",
    "    ),\n",
    "]\n",
    "\n",
    "critic_layers = [\n",
    "    (\n",
    "        nn.Linear,\n",
    "        {\n",
    "            \"in_features\": net_gym_space_dims(env.observation_space),\n",
    "            \"out_features\": 32,\n",
    "        },\n",
    "    ),\n",
    "    (nn.ReLU, {}),\n",
    "    (nn.Linear, {\"in_features\": 32, \"out_features\": 32}),\n",
    "    (nn.ReLU, {}),\n",
    "    (nn.Linear, {\"in_features\": 32, \"out_features\": 1}),\n",
    "]\n",
    "\n",
    "cartpole_a2c_args = {\n",
    "    \"gamma\": 0.99,\n",
    "    \"env_name\": env_name,\n",
    "    \"step_lim\": 500,\n",
    "    \"policy\": CategoricalPolicy(policy_layers),\n",
    "    \"policy_optimiser\": optim.Adam,\n",
    "    \"policy_lr\": 0.002,\n",
    "    \"critic\": Critic(critic_layers),\n",
    "    \"critic_lr\": 0.002,\n",
    "    \"critic_optimiser\": optim.Adam,\n",
    "    \"critic_criterion\": nn.MSELoss(),\n",
    "    \"device\": \"cpu\",\n",
    "    \"entropy_coef\": 0.01,\n",
    "    \"n_interactions\": 128,\n",
    "    \"num_train_passes\": 8,\n",
    "    \"lam\": 0.95,\n",
    "    \"num_eval_episodes\": 15,\n",
    "    \"num_workers\": 1,\n",
    "    \"minibatch_size\": 256,\n",
    "    \"norm_adv\": True,\n",
    "    \"multiprocess\": False,\n",
    "    \"grad_clip_coef\": 0.5,\n",
    "    \"loss_clip_coef\": 0.2\n",
    "    \n",
    "}\n"
   ]
  },
  {
   "cell_type": "markdown",
   "metadata": {},
   "source": [
    "```assert len(concat_batch[\"states\"]) == agent.n_interactions * num_workers\n",
    "assert len(concat_batch[\"next_states\"]) == agent.n_interactions * num_workers\n",
    "assert concat_batch[\"states\"].dtype == torch.float32\n",
    "assert concat_batch[\"rewards\"].shape == (agent.n_interactions * num_workers,)\n",
    "assert concat_batch[\"dones\"].shape == (agent.n_interactions * num_workers,)\n",
    "assert concat_batch[\"actions\"].shape == (agent.n_interactions * num_workers,)\n",
    "assert (not concat_batch[\"advantages\"].requires_grad)````"
   ]
  },
  {
   "cell_type": "code",
   "execution_count": 60,
   "metadata": {},
   "outputs": [],
   "source": [
    "env_name = \"LunarLander-v2\"\n",
    "envs = gym.vector.make(env_name)\n",
    "policy_layers = [\n",
    "    (nn.Linear,\n",
    "        {\"in_features\": net_gym_space_dims(envs.single_observation_space),\n",
    "        \"out_features\": 128}),\n",
    "    (nn.ReLU, {}),\n",
    "    (nn.Linear,\n",
    "        {\"in_features\": 128,\n",
    "        \"out_features\": 64}),\n",
    "    (nn.ReLU, {}),\n",
    "    (nn.Linear,{\"in_features\": 64, \"out_features\": net_gym_space_dims(envs.single_action_space)}),\n",
    "]\n",
    "\n",
    "critic_layers = [\n",
    "    (nn.Linear, {\"in_features\": net_gym_space_dims(envs.single_observation_space), \"out_features\": 128}),\n",
    "    (nn.ReLU, {}),\n",
    "    (nn.Linear,\n",
    "        {\"in_features\": 128,\n",
    "        \"out_features\": 64}),\n",
    "    (nn.ReLU, {}),\n",
    "    (nn.Linear, {\"in_features\": 64, \"out_features\": 1}),\n",
    "]\n",
    "\n",
    "lunar_lander_a2c_args = {\n",
    "    \"gamma\": 0.99,\n",
    "    \"env_name\": env_name,\n",
    "    \"step_lim\": 500,\n",
    "    \"policy\": CategoricalPolicy(policy_layers),\n",
    "    \"policy_optimiser\": optim.Adam,\n",
    "    \"policy_lr\": 0.0005,\n",
    "    \"critic\": Critic(critic_layers),\n",
    "    \"critic_lr\": 0.0005,\n",
    "    \"critic_optimiser\": optim.Adam,\n",
    "    \"critic_criterion\": nn.MSELoss(),\n",
    "    \"device\": \"cpu\",\n",
    "    \"entropy_coef\": 0.01,\n",
    "    \"n_interactions\": 128,\n",
    "    \"num_train_passes\": 10,\n",
    "    \"lam\": 0.95,\n",
    "    \"num_eval_episodes\": 15,\n",
    "    \"num_workers\": 8,\n",
    "    \"minibatch_size\": 256,\n",
    "    \"norm_adv\": True,\n",
    "    \"multiprocess\": False,\n",
    "    \"grad_clip_coef\": 0.5,\n",
    "    \"loss_clip_coef\": 0.2\n",
    "}\n"
   ]
  },
  {
   "cell_type": "code",
   "execution_count": 68,
   "metadata": {},
   "outputs": [],
   "source": [
    "agent = PPO(cartpole_a2c_args)"
   ]
  },
  {
   "cell_type": "code",
   "execution_count": 12,
   "metadata": {},
   "outputs": [],
   "source": [
    "eval += eval_log2"
   ]
  },
  {
   "cell_type": "code",
   "execution_count": 13,
   "metadata": {},
   "outputs": [
    {
     "data": {
      "text/plain": [
       "[<matplotlib.lines.Line2D at 0x7f8745b23130>]"
      ]
     },
     "execution_count": 13,
     "metadata": {},
     "output_type": "execute_result"
    },
    {
     "data": {
      "image/png": "[encoded data removed]",
      "text/plain": [
       "<Figure size 432x288 with 1 Axes>"
      ]
     },
     "metadata": {
      "needs_background": "light"
     },
     "output_type": "display_data"
    }
   ],
   "source": [
    "out = list(zip(*eval))\n",
    "\n",
    "plt.plot(out[0])"
   ]
  },
  {
   "cell_type": "code",
   "execution_count": null,
   "metadata": {},
   "outputs": [],
   "source": []
  },
  {
   "cell_type": "code",
   "execution_count": null,
   "metadata": {},
   "outputs": [],
   "source": []
  }
 ],
 "metadata": {
  "interpreter": {
   "hash": "631cc0c64a135b3d60ec16b3a00b8ee530410e524e91b99c73bc97da555fdd51"
  },
  "kernelspec": {
   "display_name": "Python 3.10.4 ('rl_env')",
   "language": "python",
   "name": "python3"
  },
  "language_info": {
   "codemirror_mode": {
    "name": "ipython",
    "version": 3
   },
   "file_extension": ".py",
   "mimetype": "text/x-python",
   "name": "python",
   "nbconvert_exporter": "python",
   "pygments_lexer": "ipython3",
   "version": "3.10.4"
  }
 },
 "nbformat": 4,
 "nbformat_minor": 4
}
