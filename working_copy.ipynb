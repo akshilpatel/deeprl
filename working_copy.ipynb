{
 "cells": [
  {
   "cell_type": "code",
   "execution_count": 1,
   "metadata": {},
   "outputs": [],
   "source": [
    "import gym\n",
    "import numpy as np\n",
    "import torch\n",
    "from torch import nn, optim\n",
    "import matplotlib.pyplot as plt\n",
    "from collections import deque\n",
    "from gym.spaces.box import Box\n",
    "from gym.spaces.discrete import Discrete\n",
    "from copy import deepcopy\n",
    "from typing import List, Tuple, Dict\n",
    "from gym import Space\n",
    "import torch.multiprocessing as mp\n",
    "from gym.vector import SyncVectorEnv, AsyncVectorEnv\n",
    "from copy import deepcopy\n",
    "import pandas as pd"
   ]
  },
  {
   "cell_type": "code",
   "execution_count": 2,
   "metadata": {},
   "outputs": [],
   "source": [
    "from deeprl.common.utils import to_torch"
   ]
  },
  {
   "cell_type": "code",
   "execution_count": 3,
   "metadata": {},
   "outputs": [],
   "source": [
    "from deeprl.common.utils import net_gym_space_dims, discount_cumsum, to_torch, compute_td_deltas, compute_gae_and_v_targets, normalise_adv, init_envs, minibatch_split\n",
    "from deeprl.algos.a2c.a2c import A2C\n",
    "from deeprl.algos.ppo.ppo import PPO\n",
    "from deeprl.common.base import Network, Policy, CategoricalPolicy, GaussianPolicy"
   ]
  },
  {
   "cell_type": "code",
   "execution_count": 4,
   "metadata": {},
   "outputs": [],
   "source": [
    "def collect_rollout(agent, envs):\n",
    "    batch_components_shape = (agent.n_interactions, agent.num_workers)\n",
    "\n",
    "    # Do this in the train function\n",
    "    states_batch = torch.zeros(batch_components_shape + envs.single_observation_space.shape, dtype=torch.float).to(agent.device)\n",
    "    actions_batch = torch.zeros(batch_components_shape + envs.single_action_space.shape, dtype=torch.float).to(agent.device)\n",
    "    rewards_batch = torch.zeros(batch_components_shape).to(agent.device)\n",
    "    dones_batch = torch.zeros(batch_components_shape).to(agent.device)\n",
    "    next_states_batch = torch.zeros(batch_components_shape + envs.single_observation_space.shape).to(agent.device)\n",
    "\n",
    "    # Put this into the rollout function\n",
    "    states = deepcopy(envs.observations)\n",
    "\n",
    "    for step in range(agent.n_interactions):\n",
    "        \n",
    "        actions = agent.choose_action(states)\n",
    "        next_states, rewards, dones, info = envs.step(actions)\n",
    "        \n",
    "        \n",
    "        states_batch[step] = to_torch(states, agent.device)\n",
    "        actions_batch[step] = to_torch(actions, agent.device)\n",
    "        rewards_batch[step] = to_torch(rewards, agent.device)\n",
    "        dones_batch[step] = to_torch(dones, agent.device)\n",
    "        next_states_batch[step] = to_torch(next_states, agent.device)\n",
    "\n",
    "        states = next_states\n",
    "\n",
    "    return states_batch, actions_batch, rewards_batch, dones_batch, next_states_batch\n",
    "\n",
    "\n",
    "def process_rollout(agent, rollout):\n",
    "    batches = [None for _ in range(num_workers)]\n",
    "    states_batch, actions_batch, rewards_batch, dones_batch, next_states_batch = rollout\n",
    "    for j in range(num_workers):\n",
    "        batch = {}\n",
    "        batch[\"states\"] = states_batch[:, j]\n",
    "        batch[\"actions\"] = actions_batch[:, j]\n",
    "        batch[\"rewards\"] = rewards_batch[:, j]\n",
    "        batch[\"dones\"] = dones_batch[:, j]\n",
    "        batch[\"next_states\"] = next_states_batch[:, j]\n",
    "        batch[\"advantages\"], batch[\"v_targets\"] = compute_gae_and_v_targets(agent.critic, batch, device, agent.gamma, agent.lam)\n",
    "        batches[j] = batch\n",
    "        # batch_reward = torch.reduce_sum(batch[\"rewards\"])\n",
    "        # batch_log = {\"rewards_sum\": batch_reward}\n",
    "\n",
    "    concat_batch = {k: torch.concat([b[k] for b in batches]) for k in batches[0].keys()}\n",
    "\n",
    "    return concat_batch"
   ]
  },
  {
   "cell_type": "markdown",
   "metadata": {},
   "source": [
    "```assert len(concat_batch[\"states\"]) == agent.n_interactions * num_workers\n",
    "assert len(concat_batch[\"next_states\"]) == agent.n_interactions * num_workers\n",
    "assert concat_batch[\"states\"].dtype == torch.float32\n",
    "assert concat_batch[\"rewards\"].shape == (agent.n_interactions * num_workers,)\n",
    "assert concat_batch[\"dones\"].shape == (agent.n_interactions * num_workers,)\n",
    "assert concat_batch[\"actions\"].shape == (agent.n_interactions * num_workers,)\n",
    "assert (not concat_batch[\"advantages\"].requires_grad)````"
   ]
  },
  {
   "cell_type": "code",
   "execution_count": 5,
   "metadata": {},
   "outputs": [],
   "source": [
    "def update_from_batch(agent, batch):\n",
    "    total_policy_loss = 0.\n",
    "    total_critic_loss = 0.\n",
    "    for _ in range(agent.num_train_passes):\n",
    "        minibatches = minibatch_split(batch, agent.minibatch_size)\n",
    "        for minibatch in minibatches:\n",
    "            \n",
    "            if agent.norm_adv:\n",
    "                minibatch[\"advantages\"] = normalise_adv(minibatch[\"advantages\"])\n",
    "                \n",
    "            policy_loss = agent.update_policy(minibatch)\n",
    "            critic_loss = agent.update_critic(minibatch)\n",
    "\n",
    "            total_policy_loss += policy_loss[0]\n",
    "            total_critic_loss += critic_loss[0]\n",
    "\n",
    "    mean_policy_loss = total_policy_loss / agent.num_train_passes / len(minibatches)\n",
    "    mean_critic_loss = total_critic_loss / agent.num_train_passes / len(minibatches)\n",
    "\n",
    "    return mean_policy_loss, mean_critic_loss\n",
    "\n",
    "\n",
    "\n"
   ]
  },
  {
   "cell_type": "code",
   "execution_count": 6,
   "metadata": {},
   "outputs": [],
   "source": [
    "env_name = \"LunarLander-v2\"\n",
    "envs = gym.vector.make(env_name)\n",
    "policy_layers = [\n",
    "    (nn.Linear,\n",
    "        {\"in_features\": net_gym_space_dims(envs.single_observation_space),\n",
    "        \"out_features\": 128}),\n",
    "    (nn.ReLU, {}),\n",
    "    (nn.Linear,\n",
    "        {\"in_features\": 128,\n",
    "        \"out_features\": 64}),\n",
    "    (nn.ReLU, {}),\n",
    "    (nn.Linear,{\"in_features\": 64, \"out_features\": net_gym_space_dims(envs.single_action_space)}),\n",
    "]\n",
    "\n",
    "critic_layers = [\n",
    "    (nn.Linear, {\"in_features\": net_gym_space_dims(envs.single_observation_space), \"out_features\": 128}),\n",
    "    (nn.ReLU, {}),\n",
    "    (nn.Linear,\n",
    "        {\"in_features\": 128,\n",
    "        \"out_features\": 64}),\n",
    "    (nn.ReLU, {}),\n",
    "    (nn.Linear, {\"in_features\": 64, \"out_features\": 1}),\n",
    "]\n",
    "\n",
    "a2c_args = {\n",
    "    \"gamma\": 0.99,\n",
    "    \"env_name\": env_name,\n",
    "    \"step_lim\": 500,\n",
    "    \"policy\": CategoricalPolicy(policy_layers),\n",
    "    \"policy_optimiser\": optim.Adam,\n",
    "    \"policy_lr\": 0.0005,\n",
    "    \"critic\": Network(critic_layers),\n",
    "    \"critic_lr\": 0.0005,\n",
    "    \"critic_optimiser\": optim.Adam,\n",
    "    \"critic_criterion\": nn.MSELoss(),\n",
    "    \"device\": \"cpu\",\n",
    "    \"entropy_coef\": 0.01,\n",
    "    \"n_interactions\": 128,\n",
    "    \"num_train_passes\": 10,\n",
    "    \"lam\": 0.95,\n",
    "    \"num_eval_episodes\": 15,\n",
    "    \"num_workers\": 8,\n",
    "    \"minibatch_size\": 256,\n",
    "    \"norm_adv\": True,\n",
    "    \"multiprocess\": False,\n",
    "    \"grad_clip_coef\": 0.5,\n",
    "    \"loss_clip_coef\": 0.2\n",
    "}\n"
   ]
  },
  {
   "cell_type": "code",
   "execution_count": 7,
   "metadata": {},
   "outputs": [],
   "source": [
    "envs.close()\n",
    "agent = PPO(a2c_args)\n",
    "num_workers = agent.num_workers\n",
    "device=agent.device\n",
    "env_name = \"LunarLander-v2\"\n"
   ]
  },
  {
   "cell_type": "code",
   "execution_count": 11,
   "metadata": {},
   "outputs": [
    {
     "name": "stdout",
     "output_type": "stream",
     "text": [
      "(76.16923621647146, -0.019745660852640866, 90.66506938934326)\n",
      "(74.85117100613398, -0.009736381657421588, 280.47219734191896)\n",
      "(43.39636834932712, -0.01272790206130594, 224.9603485107422)\n",
      "(-53.19115587821166, -0.01921850647777319, 51.35627660751343)\n",
      "(-12.425688322580093, -0.020775373466312884, 35.92195067405701)\n",
      "(14.957825511395626, -0.019909344054758547, 53.2541316986084)\n",
      "(-34.07687554506379, -0.016267672227695585, 41.99267244338989)\n",
      "(-28.49600682213992, -0.023223384749144316, 47.28826193809509)\n",
      "(-70.82585234894125, -0.018834057892672718, 87.68543014526367)\n",
      "(-138.42936404370442, -0.016179866361198947, 30.65526533126831)\n",
      "(-65.67485266270145, -0.02581996370572597, 29.8840322971344)\n",
      "(26.48093604112025, -0.01908288011327386, 16.58955636024475)\n",
      "(30.264386109972094, -0.018821106222458184, 23.40396671295166)\n",
      "(11.574993216079985, -0.011990447854623198, 105.07268943786622)\n",
      "(-8.787030030333394, -0.013070606789551676, 49.36263761520386)\n",
      "(69.47288377645476, -0.020231458963826297, 162.6146722793579)\n",
      "(84.89044123055008, -0.015193165477830917, 69.31069316864014)\n",
      "(124.89436419667022, -0.016616239282302558, 29.184661674499512)\n",
      "(36.55494565479699, -0.010700305714271963, 84.01022777557372)\n",
      "(-21.884880918666305, -0.011010726704262197, 175.46912078857423)\n",
      "(78.57394170291302, -0.017743153334595262, 17.213243651390076)\n",
      "(-19.252970479653936, -0.02349500097334385, 30.020724606513976)\n",
      "(45.76302672066383, -0.013351543212775142, 22.69695041179657)\n",
      "(16.116527570725562, -0.015742367471102626, 20.18947353363037)\n",
      "(-25.43026621455451, -0.01559823106508702, 21.228124046325682)\n",
      "(76.07660949186274, -0.015493567707017064, 27.685983896255493)\n",
      "(38.53117673853957, -0.014137169672176242, 27.97421588897705)\n",
      "(-28.02394239092653, -0.018489009328186513, 13.745435428619384)\n",
      "(23.239874240083594, -0.01168398540467024, 119.25642614364624)\n",
      "(10.69484503527061, -0.017219410580582916, 108.1287992477417)\n",
      "(30.40188276908524, -0.013388358056545258, 56.15864534378052)\n",
      "(62.341633694772256, -0.01720469145802781, 13.101027917861938)\n",
      "(73.90888284775431, -0.012560288119129837, 193.85921669006348)\n",
      "(26.1090018007264, -0.012728809588588774, 43.874610567092894)\n",
      "(66.37436551522927, -0.015257931977976114, 39.160604524612424)\n",
      "(25.313912443748016, -0.018070134008303283, 19.291597175598145)\n",
      "(82.14095662989297, -0.012338438094593585, 23.958523774147032)\n",
      "(94.71461114807553, -0.01380041780648753, 92.47420682907105)\n",
      "(58.100445980613394, -0.01858437971677631, 19.349801349639893)\n",
      "(6.940569870358837, -0.016673975356388836, 39.75515818595886)\n",
      "(26.117485441922348, -0.014326441125012935, 205.5328260421753)\n",
      "(52.468461459086754, -0.015467929979786276, 14.442110848426818)\n",
      "(82.4508359770433, -0.015231352066621184, 6.7096077561378475)\n",
      "(42.53960183900979, -0.01244775390950963, 274.9883117675781)\n",
      "(-17.905644639827948, -0.0112572779529728, 219.13670864105225)\n",
      "(28.34551062221103, -0.014089112321380525, 54.10533204078674)\n",
      "(22.336933195990014, -0.009952916263137013, 99.24928989410401)\n",
      "(51.09435336744741, -0.019970177579671143, 28.05627875328064)\n",
      "(64.77148522605611, -0.017492834955919533, 19.268291115760803)\n",
      "(69.20329890688114, -0.010628910479135811, 108.79037609100342)\n"
     ]
    }
   ],
   "source": [
    "eval_log2 = agent.run_training(50)"
   ]
  },
  {
   "cell_type": "code",
   "execution_count": 12,
   "metadata": {},
   "outputs": [],
   "source": [
    "eval += eval_log2"
   ]
  },
  {
   "cell_type": "code",
   "execution_count": 13,
   "metadata": {},
   "outputs": [
    {
     "data": {
      "text/plain": [
       "[<matplotlib.lines.Line2D at 0x7f8745b23130>]"
      ]
     },
     "execution_count": 13,
     "metadata": {},
     "output_type": "execute_result"
    },
    {
     "data": {
      "image/png": "[encoded data removed]",
      "text/plain": [
       "<Figure size 432x288 with 1 Axes>"
      ]
     },
     "metadata": {
      "needs_background": "light"
     },
     "output_type": "display_data"
    }
   ],
   "source": [
    "out = list(zip(*eval))\n",
    "\n",
    "plt.plot(out[0])"
   ]
  },
  {
   "cell_type": "code",
   "execution_count": 13,
   "metadata": {},
   "outputs": [],
   "source": [
    "batch_idc = np.arange(len(batch[\"states\"]))"
   ]
  },
  {
   "cell_type": "code",
   "execution_count": 14,
   "metadata": {},
   "outputs": [],
   "source": [
    "done_idc = batch_idc[1+(batch[\"dones\"]==1.)]"
   ]
  },
  {
   "cell_type": "code",
   "execution_count": 15,
   "metadata": {},
   "outputs": [],
   "source": [
    "pos = batch[\"states\"][done_idc][:, 0]\n",
    "vel = batch[\"states\"][done_idc][:, 1]"
   ]
  },
  {
   "cell_type": "code",
   "execution_count": 16,
   "metadata": {},
   "outputs": [],
   "source": [
    "bad_idc_pos = []\n",
    "for i,p in enumerate(pos):\n",
    "    if not (p >= -0.6 and p <= -0.4):\n",
    "         bad_idc_pos.append((i, p))\n",
    "\n",
    "bad_idc_vel = []\n",
    "for j, v in enumerate(vel):\n",
    "    if v != 0:\n",
    "\n",
    "        bad_idc_vel.append(v)"
   ]
  },
  {
   "cell_type": "code",
   "execution_count": 19,
   "metadata": {},
   "outputs": [
    {
     "data": {
      "text/plain": [
       "172.24993885357466"
      ]
     },
     "execution_count": 19,
     "metadata": {},
     "output_type": "execute_result"
    }
   ],
   "source": [
    "bad_idc_pos\n",
    "np.mean(bad_idc_vel)"
   ]
  },
  {
   "cell_type": "code",
   "execution_count": 24,
   "metadata": {},
   "outputs": [
    {
     "data": {
      "text/plain": [
       "tensor([-0.5505,  0.0000])"
      ]
     },
     "execution_count": 24,
     "metadata": {},
     "output_type": "execute_result"
    }
   ],
   "source": [
    "tmp = rollout[0]\n",
    "tmp[0][0]"
   ]
  },
  {
   "cell_type": "code",
   "execution_count": 34,
   "metadata": {},
   "outputs": [
    {
     "data": {
      "text/plain": [
       "dtype('float64')"
      ]
     },
     "execution_count": 34,
     "metadata": {},
     "output_type": "execute_result"
    }
   ],
   "source": [
    "np.array([np.random.uniform(low=-0.6, high=-0.4), 0]).dtype"
   ]
  },
  {
   "cell_type": "code",
   "execution_count": 25,
   "metadata": {},
   "outputs": [
    {
     "data": {
      "text/plain": [
       "tensor([-0.5493,  0.0012])"
      ]
     },
     "execution_count": 25,
     "metadata": {},
     "output_type": "execute_result"
    }
   ],
   "source": [
    "tmp[1][0]"
   ]
  },
  {
   "cell_type": "code",
   "execution_count": 26,
   "metadata": {},
   "outputs": [
    {
     "data": {
      "text/plain": [
       "tensor(2.)"
      ]
     },
     "execution_count": 26,
     "metadata": {},
     "output_type": "execute_result"
    }
   ],
   "source": [
    "tmp = rollout[1]\n",
    "tmp[0][0]"
   ]
  },
  {
   "cell_type": "code",
   "execution_count": 17,
   "metadata": {},
   "outputs": [
    {
     "data": {
      "text/plain": [
       "tensor([-0.0142,  1.4199, -0.7142,  0.1855,  0.0146,  0.1258,  0.0000,  0.0000])"
      ]
     },
     "execution_count": 17,
     "metadata": {},
     "output_type": "execute_result"
    }
   ],
   "source": [
    "tmp[1][0]"
   ]
  },
  {
   "cell_type": "code",
   "execution_count": 32,
   "metadata": {},
   "outputs": [
    {
     "name": "stdout",
     "output_type": "stream",
     "text": [
      "-173.19239503584075\n",
      "-172.60251215317984\n",
      "-178.4782370483543\n",
      "-228.68811073600472\n",
      "-246.84225198321047\n",
      "-207.11016635853153\n",
      "-205.44626132737216\n",
      "-207.95082643312372\n",
      "-201.9979350696185\n",
      "-172.19229196084765\n",
      "-262.0337850983584\n",
      "-237.85800533438777\n",
      "-244.02309146455246\n",
      "-220.46089739264394\n",
      "-259.1555643045256\n",
      "-206.80026404794995\n",
      "-197.90201883677557\n",
      "-200.51229603439552\n",
      "-223.56058137078335\n",
      "-235.4760735838833\n",
      "-159.09357970284955\n",
      "-222.77981919057373\n",
      "-247.60019583526\n",
      "-162.9159315495674\n",
      "-208.20999207544304\n",
      "-216.18628703965487\n",
      "-170.72826976549806\n",
      "-121.02861376572392\n",
      "-162.5490992979451\n",
      "-195.1374250578408\n"
     ]
    }
   ],
   "source": [
    "num_epochs = 30\n",
    "for e in range(num_epochs):\n",
    "    rollout = collect_rollout(agent, envs)\n",
    "    batch = process_rollout(agent, rollout)\n",
    "    p_loss, c_loss = update_from_batch(agent, batch)\n",
    "    eval_r = np.mean(agent.run_eval())\n",
    "    print(eval_r)\n",
    "    r += [eval_r]"
   ]
  },
  {
   "cell_type": "code",
   "execution_count": 33,
   "metadata": {},
   "outputs": [
    {
     "data": {
      "text/plain": [
       "[<matplotlib.lines.Line2D at 0x7fe995562710>]"
      ]
     },
     "execution_count": 33,
     "metadata": {},
     "output_type": "execute_result"
    },
    {
     "data": {
      "image/png": "[encoded data removed]",
      "text/plain": [
       "<Figure size 864x576 with 1 Axes>"
      ]
     },
     "metadata": {
      "needs_background": "light"
     },
     "output_type": "display_data"
    }
   ],
   "source": [
    "plt.figure(figsize=(12,8))\n",
    "plt.plot(r)\n"
   ]
  },
  {
   "cell_type": "code",
   "execution_count": null,
   "metadata": {},
   "outputs": [],
   "source": []
  },
  {
   "cell_type": "code",
   "execution_count": null,
   "metadata": {},
   "outputs": [],
   "source": []
  }
 ],
 "metadata": {
  "interpreter": {
   "hash": "631cc0c64a135b3d60ec16b3a00b8ee530410e524e91b99c73bc97da555fdd51"
  },
  "kernelspec": {
   "display_name": "Python 3.10.4 ('rl_env')",
   "language": "python",
   "name": "python3"
  },
  "language_info": {
   "codemirror_mode": {
    "name": "ipython",
    "version": 3
   },
   "file_extension": ".py",
   "mimetype": "text/x-python",
   "name": "python",
   "nbconvert_exporter": "python",
   "pygments_lexer": "ipython3",
   "version": "3.10.4"
  }
 },
 "nbformat": 4,
 "nbformat_minor": 4
}
