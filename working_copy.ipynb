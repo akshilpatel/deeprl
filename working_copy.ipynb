{
 "cells": [
  {
   "cell_type": "code",
   "execution_count": 1,
   "metadata": {},
   "outputs": [],
   "source": [
    "import gym\n",
    "import numpy as np\n",
    "import torch\n",
    "from torch import nn, optim\n",
    "import matplotlib.pyplot as plt\n",
    "from collections import deque\n",
    "from gym.spaces.box import Box\n",
    "from gym.spaces.discrete import Discrete\n",
    "from copy import deepcopy\n",
    "from typing import List, Tuple, Dict\n",
    "from gym import Space\n",
    "import torch.multiprocessing as mp\n",
    "from gym.vector import SyncVectorEnv, AsyncVectorEnv\n",
    "from copy import deepcopy\n",
    "import pandas as pd"
   ]
  },
  {
   "cell_type": "code",
   "execution_count": 2,
   "metadata": {},
   "outputs": [],
   "source": [
    "from deeprl.common.utils import to_torch"
   ]
  },
  {
   "cell_type": "code",
   "execution_count": 3,
   "metadata": {},
   "outputs": [],
   "source": [
    "from deeprl.common.utils import net_gym_space_dims, discount_cumsum, to_torch, compute_td_deltas, compute_gae_and_v_targets, normalise_adv, init_envs, minibatch_split\n",
    "from deeprl.algos.a2c.a2c import A2C\n",
    "from deeprl.common.base import Network, Policy, CategoricalPolicy, GaussianPolicy"
   ]
  },
  {
   "cell_type": "code",
   "execution_count": 6,
   "metadata": {},
   "outputs": [],
   "source": [
    "def collect_rollout(agent, envs):\n",
    "    batch_components_shape = (agent.n_interactions, agent.num_workers)\n",
    "\n",
    "    # Do this in the train function\n",
    "    states_batch = torch.zeros(batch_components_shape + envs.single_observation_space.shape, dtype=torch.float).to(agent.device)\n",
    "    actions_batch = torch.zeros(batch_components_shape + envs.single_action_space.shape, dtype=torch.float).to(agent.device)\n",
    "    rewards_batch = torch.zeros(batch_components_shape).to(agent.device)\n",
    "    dones_batch = torch.zeros(batch_components_shape).to(agent.device)\n",
    "    next_states_batch = torch.zeros(batch_components_shape + envs.single_observation_space.shape).to(agent.device)\n",
    "\n",
    "    # Put this into the rollout function\n",
    "    states = deepcopy(envs.observations)\n",
    "\n",
    "    for step in range(agent.n_interactions):\n",
    "        \n",
    "        actions = agent.choose_action(states)\n",
    "        next_states, rewards, dones, info = envs.step(actions)\n",
    "        \n",
    "        \n",
    "        states_batch[step] = to_torch(states, agent.device)\n",
    "        actions_batch[step] = to_torch(actions, agent.device)\n",
    "        rewards_batch[step] = to_torch(rewards, agent.device)\n",
    "        dones_batch[step] = to_torch(dones, agent.device)\n",
    "        next_states_batch[step] = to_torch(next_states, agent.device)\n",
    "\n",
    "        states = next_states\n",
    "\n",
    "    return states_batch, actions_batch, rewards_batch, dones_batch, next_states_batch\n",
    "\n",
    "\n",
    "def process_rollout(agent, rollout):\n",
    "    batches = [None for _ in range(num_workers)]\n",
    "    states_batch, actions_batch, rewards_batch, dones_batch, next_states_batch = rollout\n",
    "    for j in range(num_workers):\n",
    "        batch = {}\n",
    "        batch[\"states\"] = states_batch[:, j]\n",
    "        batch[\"actions\"] = actions_batch[:, j]\n",
    "        batch[\"rewards\"] = rewards_batch[:, j]\n",
    "        batch[\"dones\"] = dones_batch[:, j]\n",
    "        batch[\"next_states\"] = next_states_batch[:, j]\n",
    "        batch[\"advantages\"], batch[\"v_targets\"] = compute_gae_and_v_targets(agent.critic, batch, device, agent.gamma, agent.lam)\n",
    "        batches[j] = batch\n",
    "        # batch_reward = torch.reduce_sum(batch[\"rewards\"])\n",
    "        # batch_log = {\"rewards_sum\": batch_reward}\n",
    "\n",
    "    concat_batch = {k: torch.concat([b[k] for b in batches]) for k in batches[0].keys()}\n",
    "\n",
    "    return concat_batch"
   ]
  },
  {
   "cell_type": "markdown",
   "metadata": {},
   "source": [
    "```assert len(concat_batch[\"states\"]) == agent.n_interactions * num_workers\n",
    "assert len(concat_batch[\"next_states\"]) == agent.n_interactions * num_workers\n",
    "assert concat_batch[\"states\"].dtype == torch.float32\n",
    "assert concat_batch[\"rewards\"].shape == (agent.n_interactions * num_workers,)\n",
    "assert concat_batch[\"dones\"].shape == (agent.n_interactions * num_workers,)\n",
    "assert concat_batch[\"actions\"].shape == (agent.n_interactions * num_workers,)\n",
    "assert (not concat_batch[\"advantages\"].requires_grad)````"
   ]
  },
  {
   "cell_type": "code",
   "execution_count": 7,
   "metadata": {},
   "outputs": [],
   "source": [
    "def update_from_batch(agent, batch):\n",
    "    total_policy_loss = 0.\n",
    "    total_critic_loss = 0.\n",
    "    for _ in range(agent.num_train_passes):\n",
    "        minibatches = minibatch_split(batch, agent.minibatch_size)\n",
    "        for minibatch in minibatches:\n",
    "            \n",
    "            if agent.norm_adv:\n",
    "                minibatch[\"advantages\"] = normalise_adv(minibatch[\"advantages\"])\n",
    "                \n",
    "            policy_loss = agent.update_policy(minibatch)\n",
    "            critic_loss = agent.update_critic(minibatch)\n",
    "\n",
    "            total_policy_loss += policy_loss[0]\n",
    "            total_critic_loss += critic_loss[0]\n",
    "\n",
    "    mean_policy_loss = total_policy_loss / agent.num_train_passes / len(minibatches)\n",
    "    mean_critic_loss = total_critic_loss / agent.num_train_passes / len(minibatches)\n",
    "\n",
    "    return mean_policy_loss, mean_critic_loss\n",
    "\n",
    "\n",
    "\n"
   ]
  },
  {
   "cell_type": "code",
   "execution_count": 43,
   "metadata": {},
   "outputs": [],
   "source": [
    "env_name = \"CartPole-v1\"\n",
    "envs = gym.vector.make(env_name)\n",
    "policy_layers = [\n",
    "    (nn.Linear,\n",
    "        {\"in_features\": net_gym_space_dims(envs.single_observation_space),\n",
    "        \"out_features\": 20}),\n",
    "    (nn.ReLU, {}),\n",
    "    (nn.Linear,\n",
    "        {\"in_features\": 20,\n",
    "        \"out_features\": 20}),\n",
    "    (nn.ReLU, {}),\n",
    "    (nn.Linear,{\"in_features\": 20, \"out_features\": net_gym_space_dims(envs.single_action_space)}),\n",
    "]\n",
    "\n",
    "critic_layers = [\n",
    "    (nn.Linear, {\"in_features\": net_gym_space_dims(envs.single_observation_space), \"out_features\": 20}),\n",
    "    (nn.ReLU, {}),\n",
    "    (nn.Linear,\n",
    "        {\"in_features\": 20,\n",
    "        \"out_features\": 20}),\n",
    "    (nn.ReLU, {}),\n",
    "    (nn.Linear, {\"in_features\": 20, \"out_features\": 1}),\n",
    "]\n",
    "\n",
    "a2c_args = {\n",
    "    \"gamma\": 0.99,\n",
    "    \"env_name\": env_name,\n",
    "    \"step_lim\": 500,\n",
    "    \"policy\": CategoricalPolicy(policy_layers),\n",
    "    \"policy_optimiser\": optim.Adam,\n",
    "    \"policy_lr\": 0.001,\n",
    "    \"critic\": Network(critic_layers),\n",
    "    \"critic_lr\": 0.001,\n",
    "    \"critic_optimiser\": optim.Adam,\n",
    "    \"critic_criterion\": nn.MSELoss(),\n",
    "    \"device\": \"cpu\",\n",
    "    \"entropy_coef\": 0.01,\n",
    "    \"n_interactions\": 200,\n",
    "    \"num_train_passes\": 1,\n",
    "    \"lam\": 0.95,\n",
    "    \"num_eval_episodes\": 15,\n",
    "    \"num_workers\": 6,\n",
    "    \"minibatch_size\": 120,\n",
    "    \"norm_adv\": False,\n",
    "    \"multiprocess\": False\n",
    "}\n"
   ]
  },
  {
   "cell_type": "code",
   "execution_count": 44,
   "metadata": {},
   "outputs": [],
   "source": [
    "envs.close()\n",
    "agent = A2C(a2c_args)\n",
    "num_workers = agent.num_workers\n",
    "device=agent.device\n",
    "env_name = \"CartPole-v1\"\n"
   ]
  },
  {
   "cell_type": "code",
   "execution_count": 45,
   "metadata": {},
   "outputs": [
    {
     "data": {
      "text/plain": [
       "[(17.6, 5.067790174484253, 65.66959953308105),\n",
       " (17.4, 5.387229871749878, 74.56004447937012),\n",
       " (26.8, 5.76524019241333, 86.36984405517578),\n",
       " (22.3, 6.100128030776977, 98.50701675415038),\n",
       " (19.3, 5.63000750541687, 83.727685546875),\n",
       " (30.7, 5.876339387893677, 91.56686782836914),\n",
       " (30.6, 6.179768896102905, 102.78910369873047),\n",
       " (30.1, 6.184862804412842, 101.80990753173828),\n",
       " (30.5, 5.756334209442139, 90.76098098754883),\n",
       " (29.8, 5.644410610198975, 89.73650588989258),\n",
       " (25.5, 5.839718770980835, 97.51616744995117),\n",
       " (31.8, 5.821145534515381, 97.71841583251953),\n",
       " (42.7, 5.781283712387085, 98.06453704833984),\n",
       " (39.9, 5.348915386199951, 85.73069229125977),\n",
       " (29.8, 5.752187919616699, 99.09934997558594),\n",
       " (30.9, 6.023752689361572, 111.42053146362305),\n",
       " (54.4, 5.61723895072937, 101.74523544311523),\n",
       " (36.2, 5.550181150436401, 103.58167190551758),\n",
       " (69.0, 6.034345197677612, 120.21830139160156),\n",
       " (63.1, 5.950966119766235, 116.12652816772462),\n",
       " (54.6, 6.087514734268188, 121.7170196533203),\n",
       " (66.1, 5.267935276031494, 102.24530181884765),\n",
       " (50.1, 6.12764801979065, 133.02573928833007),\n",
       " (62.1, 6.630342578887939, 145.61065521240235),\n",
       " (99.3, 5.837062120437622, 128.27573165893554),\n",
       " (112.1, 6.459265279769897, 142.71163330078124),\n",
       " (99.4, 5.277543783187866, 118.84461364746093),\n",
       " (109.2, 5.795010328292847, 138.51782760620117),\n",
       " (111.3, 5.845283460617066, 147.44023895263672),\n",
       " (117.1, 6.102639961242676, 152.50390625),\n",
       " (135.0, 5.1701113224029545, 143.4906150817871),\n",
       " (153.7, 6.527887344360352, 154.314208984375),\n",
       " (140.9, 5.419404363632202, 156.0594970703125),\n",
       " (192.7, 5.019395518302917, 149.48794708251953),\n",
       " (164.4, 4.827417945861816, 169.32972717285156),\n",
       " (182.3, 5.43688998222351, 154.1850440979004),\n",
       " (178.5, 5.305410552024841, 156.40074157714844),\n",
       " (202.5, 5.691133069992065, 140.54228820800782),\n",
       " (203.4, 4.894997596740723, 148.07922821044923),\n",
       " (177.4, 5.67282886505127, 145.2908172607422),\n",
       " (240.9, 5.439523410797119, 115.45975723266602),\n",
       " (285.8, 4.361005425453186, 144.5468376159668),\n",
       " (228.0, 4.503312635421753, 125.83871078491211),\n",
       " (253.3, 4.372766494750977, 156.07817001342772),\n",
       " (258.8, 4.191596984863281, 146.62881240844726),\n",
       " (187.9, 2.4603928089141847, 158.93699111938477),\n",
       " (290.6, 4.368358564376831, 111.7622085571289),\n",
       " (236.4, 3.5161540865898133, 140.77208099365234),\n",
       " (167.2, 2.1890344500541685, 192.1354965209961),\n",
       " (172.2, 2.8815381288528443, 144.78606872558595)]"
      ]
     },
     "execution_count": 45,
     "metadata": {},
     "output_type": "execute_result"
    }
   ],
   "source": [
    "agent.run_training(50)"
   ]
  },
  {
   "cell_type": "code",
   "execution_count": 12,
   "metadata": {},
   "outputs": [
    {
     "data": {
      "text/plain": [
       "dict_keys(['states', 'actions', 'rewards', 'dones', 'next_states', 'advantages', 'v_targets'])"
      ]
     },
     "execution_count": 12,
     "metadata": {},
     "output_type": "execute_result"
    }
   ],
   "source": [
    "batch.keys()"
   ]
  },
  {
   "cell_type": "code",
   "execution_count": 13,
   "metadata": {},
   "outputs": [],
   "source": [
    "batch_idc = np.arange(len(batch[\"states\"]))"
   ]
  },
  {
   "cell_type": "code",
   "execution_count": 14,
   "metadata": {},
   "outputs": [],
   "source": [
    "done_idc = batch_idc[1+(batch[\"dones\"]==1.)]"
   ]
  },
  {
   "cell_type": "code",
   "execution_count": 15,
   "metadata": {},
   "outputs": [],
   "source": [
    "pos = batch[\"states\"][done_idc][:, 0]\n",
    "vel = batch[\"states\"][done_idc][:, 1]"
   ]
  },
  {
   "cell_type": "code",
   "execution_count": 16,
   "metadata": {},
   "outputs": [],
   "source": [
    "bad_idc_pos = []\n",
    "for i,p in enumerate(pos):\n",
    "    if not (p >= -0.6 and p <= -0.4):\n",
    "         bad_idc_pos.append((i, p))\n",
    "\n",
    "bad_idc_vel = []\n",
    "for j, v in enumerate(vel):\n",
    "    if v != 0:\n",
    "\n",
    "        bad_idc_vel.append(v)"
   ]
  },
  {
   "cell_type": "code",
   "execution_count": 19,
   "metadata": {},
   "outputs": [
    {
     "data": {
      "text/plain": [
       "172.24993885357466"
      ]
     },
     "execution_count": 19,
     "metadata": {},
     "output_type": "execute_result"
    }
   ],
   "source": [
    "bad_idc_pos\n",
    "np.mean(bad_idc_vel)"
   ]
  },
  {
   "cell_type": "code",
   "execution_count": 24,
   "metadata": {},
   "outputs": [
    {
     "data": {
      "text/plain": [
       "tensor([-0.5505,  0.0000])"
      ]
     },
     "execution_count": 24,
     "metadata": {},
     "output_type": "execute_result"
    }
   ],
   "source": [
    "tmp = rollout[0]\n",
    "tmp[0][0]"
   ]
  },
  {
   "cell_type": "code",
   "execution_count": 34,
   "metadata": {},
   "outputs": [
    {
     "data": {
      "text/plain": [
       "dtype('float64')"
      ]
     },
     "execution_count": 34,
     "metadata": {},
     "output_type": "execute_result"
    }
   ],
   "source": [
    "np.array([np.random.uniform(low=-0.6, high=-0.4), 0]).dtype"
   ]
  },
  {
   "cell_type": "code",
   "execution_count": 25,
   "metadata": {},
   "outputs": [
    {
     "data": {
      "text/plain": [
       "tensor([-0.5493,  0.0012])"
      ]
     },
     "execution_count": 25,
     "metadata": {},
     "output_type": "execute_result"
    }
   ],
   "source": [
    "tmp[1][0]"
   ]
  },
  {
   "cell_type": "code",
   "execution_count": 26,
   "metadata": {},
   "outputs": [
    {
     "data": {
      "text/plain": [
       "tensor(2.)"
      ]
     },
     "execution_count": 26,
     "metadata": {},
     "output_type": "execute_result"
    }
   ],
   "source": [
    "tmp = rollout[1]\n",
    "tmp[0][0]"
   ]
  },
  {
   "cell_type": "code",
   "execution_count": 17,
   "metadata": {},
   "outputs": [
    {
     "data": {
      "text/plain": [
       "tensor([-0.0142,  1.4199, -0.7142,  0.1855,  0.0146,  0.1258,  0.0000,  0.0000])"
      ]
     },
     "execution_count": 17,
     "metadata": {},
     "output_type": "execute_result"
    }
   ],
   "source": [
    "tmp[1][0]"
   ]
  },
  {
   "cell_type": "code",
   "execution_count": 32,
   "metadata": {},
   "outputs": [
    {
     "name": "stdout",
     "output_type": "stream",
     "text": [
      "-173.19239503584075\n",
      "-172.60251215317984\n",
      "-178.4782370483543\n",
      "-228.68811073600472\n",
      "-246.84225198321047\n",
      "-207.11016635853153\n",
      "-205.44626132737216\n",
      "-207.95082643312372\n",
      "-201.9979350696185\n",
      "-172.19229196084765\n",
      "-262.0337850983584\n",
      "-237.85800533438777\n",
      "-244.02309146455246\n",
      "-220.46089739264394\n",
      "-259.1555643045256\n",
      "-206.80026404794995\n",
      "-197.90201883677557\n",
      "-200.51229603439552\n",
      "-223.56058137078335\n",
      "-235.4760735838833\n",
      "-159.09357970284955\n",
      "-222.77981919057373\n",
      "-247.60019583526\n",
      "-162.9159315495674\n",
      "-208.20999207544304\n",
      "-216.18628703965487\n",
      "-170.72826976549806\n",
      "-121.02861376572392\n",
      "-162.5490992979451\n",
      "-195.1374250578408\n"
     ]
    }
   ],
   "source": [
    "num_epochs = 30\n",
    "for e in range(num_epochs):\n",
    "    rollout = collect_rollout(agent, envs)\n",
    "    batch = process_rollout(agent, rollout)\n",
    "    p_loss, c_loss = update_from_batch(agent, batch)\n",
    "    eval_r = np.mean(agent.run_eval())\n",
    "    print(eval_r)\n",
    "    r += [eval_r]"
   ]
  },
  {
   "cell_type": "code",
   "execution_count": 33,
   "metadata": {},
   "outputs": [
    {
     "data": {
      "text/plain": [
       "[<matplotlib.lines.Line2D at 0x7fe995562710>]"
      ]
     },
     "execution_count": 33,
     "metadata": {},
     "output_type": "execute_result"
    },
    {
     "data": {
      "image/png": "[encoded data removed]",
      "text/plain": [
       "<Figure size 864x576 with 1 Axes>"
      ]
     },
     "metadata": {
      "needs_background": "light"
     },
     "output_type": "display_data"
    }
   ],
   "source": [
    "plt.figure(figsize=(12,8))\n",
    "plt.plot(r)\n"
   ]
  },
  {
   "cell_type": "code",
   "execution_count": null,
   "metadata": {},
   "outputs": [],
   "source": []
  },
  {
   "cell_type": "code",
   "execution_count": null,
   "metadata": {},
   "outputs": [],
   "source": []
  }
 ],
 "metadata": {
  "interpreter": {
   "hash": "631cc0c64a135b3d60ec16b3a00b8ee530410e524e91b99c73bc97da555fdd51"
  },
  "kernelspec": {
   "display_name": "Python 3.10.4 ('rl_env')",
   "language": "python",
   "name": "python3"
  },
  "language_info": {
   "codemirror_mode": {
    "name": "ipython",
    "version": 3
   },
   "file_extension": ".py",
   "mimetype": "text/x-python",
   "name": "python",
   "nbconvert_exporter": "python",
   "pygments_lexer": "ipython3",
   "version": "3.10.4"
  }
 },
 "nbformat": 4,
 "nbformat_minor": 4
}
